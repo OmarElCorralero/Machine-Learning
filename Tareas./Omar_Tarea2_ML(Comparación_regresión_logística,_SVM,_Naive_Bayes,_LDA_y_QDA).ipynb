{
  "cells": [
    {
      "cell_type": "markdown",
      "source": [
        "# **Tarea 2**\n",
        "## Machine Learning\n",
        "### Omar Guerra - Estudiante de Ingeniería. Civil Matemática\n",
        "#### Universidad de Valparaíso\n",
        "\n",
        "\n",
        "\n",
        "---\n",
        "\n"
      ],
      "metadata": {
        "id": "gMd4iFhOg6SE"
      },
      "id": "gMd4iFhOg6SE"
    },
    {
      "cell_type": "markdown",
      "source": [
        "Remarcamos que este código está basado en la implementación vista en clases, diseñado por el Profesor Alejandro Pereira, para los primeros modelos: regresión logística y svm.\n",
        "Naïve Bayes, LDA y QDA fueron obtenidos desde la web.\n",
        "Esta tarea se realizó en conjunto con Kathryn Barraza."
      ],
      "metadata": {
        "id": "3KykqxoAhXwx"
      },
      "id": "3KykqxoAhXwx"
    },
    {
      "cell_type": "markdown",
      "source": [
        "# **Objetivos**\n",
        "### Comparar regresión logística, SVM, Naive Bayes, LDA y QDA.\n",
        "### Usando las métricas de desempeño correspondientes.\n",
        "### Exponer comentarios y análisis."
      ],
      "metadata": {
        "id": "t9dDWoey8kVF"
      },
      "id": "t9dDWoey8kVF"
    },
    {
      "cell_type": "code",
      "execution_count": null,
      "id": "219fc4e9",
      "metadata": {
        "id": "219fc4e9"
      },
      "outputs": [],
      "source": [
        "#Importamos las librerias necesarias\n",
        "\n",
        "import pandas as pd\n",
        "import numpy as np\n",
        "import matplotlib.pyplot as plt\n",
        "\n",
        "from sklearn.linear_model import LogisticRegression\n",
        "from sklearn.model_selection import train_test_split\n",
        "#from sklearn.metrics import mean_squared_error\n",
        "import sklearn.metrics as sk_metrics \n",
        "# log_loss, roc_auc_score, recall_score, precision_score, \n",
        "# average_precision_score, f1_score, classification_report, \n",
        "# accuracy_score, roc_curve, precision_recall_curve, confusion_matrix\n",
        "from scipy.special import expit\n",
        "\n",
        "from sklearn.preprocessing import StandardScaler"
      ]
    },
    {
      "cell_type": "code",
      "execution_count": null,
      "id": "ef42d518",
      "metadata": {
        "colab": {
          "base_uri": "https://localhost:8080/"
        },
        "id": "ef42d518",
        "outputId": "e64a4f9f-2bbb-4c08-b6f1-29ca43ed0717"
      },
      "outputs": [
        {
          "output_type": "stream",
          "name": "stdout",
          "text": [
            "Mounted at /content/drive\n"
          ]
        }
      ],
      "source": [
        "#Importamos los datos\n",
        "from google.colab import drive\n",
        "drive.mount('/content/drive')\n",
        "url='/content/drive/MyDrive/data.csv'\n",
        "df= pd.read_csv(url)"
      ]
    },
    {
      "cell_type": "code",
      "execution_count": null,
      "id": "c257b068",
      "metadata": {
        "colab": {
          "base_uri": "https://localhost:8080/",
          "height": 206
        },
        "id": "c257b068",
        "outputId": "8ed2a076-c09d-4d73-d4c1-3e4b13c1308d"
      },
      "outputs": [
        {
          "output_type": "execute_result",
          "data": {
            "text/plain": [
              "   age  sex  cp trestbps chol fbs restecg thalach exang  oldpeak slope ca  \\\n",
              "0   28    1   2      130  132   0       2     185     0      0.0     ?  ?   \n",
              "1   29    1   2      120  243   0       0     160     0      0.0     ?  ?   \n",
              "2   29    1   2      140    ?   0       0     170     0      0.0     ?  ?   \n",
              "3   30    0   1      170  237   0       1     170     0      0.0     ?  ?   \n",
              "4   31    0   2      100  219   0       1     150     0      0.0     ?  ?   \n",
              "\n",
              "  thal  num         \n",
              "0    ?           0  \n",
              "1    ?           0  \n",
              "2    ?           0  \n",
              "3    6           0  \n",
              "4    ?           0  "
            ],
            "text/html": [
              "\n",
              "  <div id=\"df-909b3b65-d7f7-4a25-950a-5ed5a19e8474\">\n",
              "    <div class=\"colab-df-container\">\n",
              "      <div>\n",
              "<style scoped>\n",
              "    .dataframe tbody tr th:only-of-type {\n",
              "        vertical-align: middle;\n",
              "    }\n",
              "\n",
              "    .dataframe tbody tr th {\n",
              "        vertical-align: top;\n",
              "    }\n",
              "\n",
              "    .dataframe thead th {\n",
              "        text-align: right;\n",
              "    }\n",
              "</style>\n",
              "<table border=\"1\" class=\"dataframe\">\n",
              "  <thead>\n",
              "    <tr style=\"text-align: right;\">\n",
              "      <th></th>\n",
              "      <th>age</th>\n",
              "      <th>sex</th>\n",
              "      <th>cp</th>\n",
              "      <th>trestbps</th>\n",
              "      <th>chol</th>\n",
              "      <th>fbs</th>\n",
              "      <th>restecg</th>\n",
              "      <th>thalach</th>\n",
              "      <th>exang</th>\n",
              "      <th>oldpeak</th>\n",
              "      <th>slope</th>\n",
              "      <th>ca</th>\n",
              "      <th>thal</th>\n",
              "      <th>num</th>\n",
              "    </tr>\n",
              "  </thead>\n",
              "  <tbody>\n",
              "    <tr>\n",
              "      <th>0</th>\n",
              "      <td>28</td>\n",
              "      <td>1</td>\n",
              "      <td>2</td>\n",
              "      <td>130</td>\n",
              "      <td>132</td>\n",
              "      <td>0</td>\n",
              "      <td>2</td>\n",
              "      <td>185</td>\n",
              "      <td>0</td>\n",
              "      <td>0.0</td>\n",
              "      <td>?</td>\n",
              "      <td>?</td>\n",
              "      <td>?</td>\n",
              "      <td>0</td>\n",
              "    </tr>\n",
              "    <tr>\n",
              "      <th>1</th>\n",
              "      <td>29</td>\n",
              "      <td>1</td>\n",
              "      <td>2</td>\n",
              "      <td>120</td>\n",
              "      <td>243</td>\n",
              "      <td>0</td>\n",
              "      <td>0</td>\n",
              "      <td>160</td>\n",
              "      <td>0</td>\n",
              "      <td>0.0</td>\n",
              "      <td>?</td>\n",
              "      <td>?</td>\n",
              "      <td>?</td>\n",
              "      <td>0</td>\n",
              "    </tr>\n",
              "    <tr>\n",
              "      <th>2</th>\n",
              "      <td>29</td>\n",
              "      <td>1</td>\n",
              "      <td>2</td>\n",
              "      <td>140</td>\n",
              "      <td>?</td>\n",
              "      <td>0</td>\n",
              "      <td>0</td>\n",
              "      <td>170</td>\n",
              "      <td>0</td>\n",
              "      <td>0.0</td>\n",
              "      <td>?</td>\n",
              "      <td>?</td>\n",
              "      <td>?</td>\n",
              "      <td>0</td>\n",
              "    </tr>\n",
              "    <tr>\n",
              "      <th>3</th>\n",
              "      <td>30</td>\n",
              "      <td>0</td>\n",
              "      <td>1</td>\n",
              "      <td>170</td>\n",
              "      <td>237</td>\n",
              "      <td>0</td>\n",
              "      <td>1</td>\n",
              "      <td>170</td>\n",
              "      <td>0</td>\n",
              "      <td>0.0</td>\n",
              "      <td>?</td>\n",
              "      <td>?</td>\n",
              "      <td>6</td>\n",
              "      <td>0</td>\n",
              "    </tr>\n",
              "    <tr>\n",
              "      <th>4</th>\n",
              "      <td>31</td>\n",
              "      <td>0</td>\n",
              "      <td>2</td>\n",
              "      <td>100</td>\n",
              "      <td>219</td>\n",
              "      <td>0</td>\n",
              "      <td>1</td>\n",
              "      <td>150</td>\n",
              "      <td>0</td>\n",
              "      <td>0.0</td>\n",
              "      <td>?</td>\n",
              "      <td>?</td>\n",
              "      <td>?</td>\n",
              "      <td>0</td>\n",
              "    </tr>\n",
              "  </tbody>\n",
              "</table>\n",
              "</div>\n",
              "      <button class=\"colab-df-convert\" onclick=\"convertToInteractive('df-909b3b65-d7f7-4a25-950a-5ed5a19e8474')\"\n",
              "              title=\"Convert this dataframe to an interactive table.\"\n",
              "              style=\"display:none;\">\n",
              "        \n",
              "  <svg xmlns=\"http://www.w3.org/2000/svg\" height=\"24px\"viewBox=\"0 0 24 24\"\n",
              "       width=\"24px\">\n",
              "    <path d=\"M0 0h24v24H0V0z\" fill=\"none\"/>\n",
              "    <path d=\"M18.56 5.44l.94 2.06.94-2.06 2.06-.94-2.06-.94-.94-2.06-.94 2.06-2.06.94zm-11 1L8.5 8.5l.94-2.06 2.06-.94-2.06-.94L8.5 2.5l-.94 2.06-2.06.94zm10 10l.94 2.06.94-2.06 2.06-.94-2.06-.94-.94-2.06-.94 2.06-2.06.94z\"/><path d=\"M17.41 7.96l-1.37-1.37c-.4-.4-.92-.59-1.43-.59-.52 0-1.04.2-1.43.59L10.3 9.45l-7.72 7.72c-.78.78-.78 2.05 0 2.83L4 21.41c.39.39.9.59 1.41.59.51 0 1.02-.2 1.41-.59l7.78-7.78 2.81-2.81c.8-.78.8-2.07 0-2.86zM5.41 20L4 18.59l7.72-7.72 1.47 1.35L5.41 20z\"/>\n",
              "  </svg>\n",
              "      </button>\n",
              "      \n",
              "  <style>\n",
              "    .colab-df-container {\n",
              "      display:flex;\n",
              "      flex-wrap:wrap;\n",
              "      gap: 12px;\n",
              "    }\n",
              "\n",
              "    .colab-df-convert {\n",
              "      background-color: #E8F0FE;\n",
              "      border: none;\n",
              "      border-radius: 50%;\n",
              "      cursor: pointer;\n",
              "      display: none;\n",
              "      fill: #1967D2;\n",
              "      height: 32px;\n",
              "      padding: 0 0 0 0;\n",
              "      width: 32px;\n",
              "    }\n",
              "\n",
              "    .colab-df-convert:hover {\n",
              "      background-color: #E2EBFA;\n",
              "      box-shadow: 0px 1px 2px rgba(60, 64, 67, 0.3), 0px 1px 3px 1px rgba(60, 64, 67, 0.15);\n",
              "      fill: #174EA6;\n",
              "    }\n",
              "\n",
              "    [theme=dark] .colab-df-convert {\n",
              "      background-color: #3B4455;\n",
              "      fill: #D2E3FC;\n",
              "    }\n",
              "\n",
              "    [theme=dark] .colab-df-convert:hover {\n",
              "      background-color: #434B5C;\n",
              "      box-shadow: 0px 1px 3px 1px rgba(0, 0, 0, 0.15);\n",
              "      filter: drop-shadow(0px 1px 2px rgba(0, 0, 0, 0.3));\n",
              "      fill: #FFFFFF;\n",
              "    }\n",
              "  </style>\n",
              "\n",
              "      <script>\n",
              "        const buttonEl =\n",
              "          document.querySelector('#df-909b3b65-d7f7-4a25-950a-5ed5a19e8474 button.colab-df-convert');\n",
              "        buttonEl.style.display =\n",
              "          google.colab.kernel.accessAllowed ? 'block' : 'none';\n",
              "\n",
              "        async function convertToInteractive(key) {\n",
              "          const element = document.querySelector('#df-909b3b65-d7f7-4a25-950a-5ed5a19e8474');\n",
              "          const dataTable =\n",
              "            await google.colab.kernel.invokeFunction('convertToInteractive',\n",
              "                                                     [key], {});\n",
              "          if (!dataTable) return;\n",
              "\n",
              "          const docLinkHtml = 'Like what you see? Visit the ' +\n",
              "            '<a target=\"_blank\" href=https://colab.research.google.com/notebooks/data_table.ipynb>data table notebook</a>'\n",
              "            + ' to learn more about interactive tables.';\n",
              "          element.innerHTML = '';\n",
              "          dataTable['output_type'] = 'display_data';\n",
              "          await google.colab.output.renderOutput(dataTable, element);\n",
              "          const docLink = document.createElement('div');\n",
              "          docLink.innerHTML = docLinkHtml;\n",
              "          element.appendChild(docLink);\n",
              "        }\n",
              "      </script>\n",
              "    </div>\n",
              "  </div>\n",
              "  "
            ]
          },
          "metadata": {},
          "execution_count": 3
        }
      ],
      "source": [
        "#Mostramos los primeros datos de todo nuestro conjunto \n",
        "df.head()"
      ]
    },
    {
      "cell_type": "code",
      "execution_count": null,
      "id": "1de58b83",
      "metadata": {
        "colab": {
          "base_uri": "https://localhost:8080/"
        },
        "id": "1de58b83",
        "outputId": "aef21e20-2e01-4b6f-f8d1-4940edf12401"
      },
      "outputs": [
        {
          "output_type": "execute_result",
          "data": {
            "text/plain": [
              "(261, 11)"
            ]
          },
          "metadata": {},
          "execution_count": 4
        }
      ],
      "source": [
        "#Aquí arreglamos ciertas cosas con respecto a la data: renombramos, borramos lo que tiene datos perdidos y vemos al final con cuantos datos nos quedamos.\n",
        "df.rename(columns = {'num       ': 'attack'}, inplace = True)\n",
        "df.replace(\"?\", np.nan, inplace = True)\n",
        "df.drop(columns = ['slope', 'ca', 'thal'], inplace = True)\n",
        "df.dropna(inplace= True)\n",
        "df.shape "
      ]
    },
    {
      "cell_type": "markdown",
      "id": "f1b9712e",
      "metadata": {
        "id": "f1b9712e"
      },
      "source": [
        "### Variables que vamos a usar\n",
        "\n",
        "    age: age in years\n",
        "    sex: sex (1 = male; 0 = female)\n",
        "    cp: chest pain type\n",
        "    – 1: typical angina\n",
        "    – 2: atypical angina\n",
        "    – 3: non-anginal pain\n",
        "    – 4: asymptomatic\n",
        "    trestbps: resting blood pressure (in mm Hg on admission to the hospital)\n",
        "    chol: serum cholesterol in mg/dl\n",
        "    fbs: (fasting blood sugar > 120 mg/dl) (1 = true; 0 = false)\n",
        "    restecg: resting electrocardiographic results\n",
        "    – 0: normal\n",
        "    – 1: having ST-T wave abnormality (T wave inversions and/or ST elevation or depression of > 0.05 mV)\n",
        "    – 2: showing probable or definite left ventricular hypertrophy by Estes’ criteria\n",
        "    thalach: maximum heart rate achieved\n",
        "    exang: exercise-induced angina (1 = yes; 0 = no)\n",
        "    oldpeak: ST depression induced by exercise relative to rest"
      ]
    },
    {
      "cell_type": "markdown",
      "id": "134ff41d",
      "metadata": {
        "id": "134ff41d"
      },
      "source": [
        "## Test - Train split"
      ]
    },
    {
      "cell_type": "markdown",
      "source": [
        "Separamos nuestra muestra en datos de entrenamiento y datos de test. Tomamos la separación para los cinco modelos con el mismo tamaño de test 0.3 y semilla 125. Esto es para guardar consistencia entre modelos"
      ],
      "metadata": {
        "id": "dgr9NVCx5C8-"
      },
      "id": "dgr9NVCx5C8-"
    },
    {
      "cell_type": "code",
      "execution_count": null,
      "id": "74f8e090",
      "metadata": {
        "colab": {
          "base_uri": "https://localhost:8080/"
        },
        "id": "74f8e090",
        "outputId": "d2a4a439-ff49-4762-d472-732a92ac6354"
      },
      "outputs": [
        {
          "output_type": "stream",
          "name": "stdout",
          "text": [
            "(182, 11)\n",
            "(79, 11)\n",
            "\n",
            "Percentages of heart attacks in Train data:\n",
            " 0    0.626374\n",
            "1    0.373626\n",
            "Name: attack, dtype: float64\n",
            "\n",
            "Percentages of heart attacks in Test data:\n",
            " 0    0.620253\n",
            "1    0.379747\n",
            "Name: attack, dtype: float64\n"
          ]
        }
      ],
      "source": [
        "random_seed = 125\n",
        "df_train, df_test = train_test_split(df, test_size=0.3, random_state=random_seed, stratify=df['attack'])\n",
        "\n",
        "\n",
        "print(df_train.shape) #tamaño de nuestros datos de entrenamiento\n",
        "print(df_test.shape) #tamaño de nuestros datos de test\n",
        "\n",
        "print(\"\\nPercentages of heart attacks in Train data:\\n\", df_train['attack'].value_counts(normalize=True))\n",
        "print(\"\\nPercentages of heart attacks in Test data:\\n\", df_test['attack'].value_counts(normalize=True))"
      ]
    },
    {
      "cell_type": "code",
      "execution_count": null,
      "id": "5c3b8bc0",
      "metadata": {
        "colab": {
          "base_uri": "https://localhost:8080/"
        },
        "id": "5c3b8bc0",
        "outputId": "18a84bd3-1d90-4d11-d487-d33aa821a131"
      },
      "outputs": [
        {
          "output_type": "stream",
          "name": "stdout",
          "text": [
            "Numerical var: ['age', 'trestbps', 'chol', 'thalach', 'oldpeak']\n",
            "\n",
            "Categorical var: ['cp', 'exang', 'fbs', 'restecg', 'sex']\n"
          ]
        }
      ],
      "source": [
        "#Separamos a las variables en dos grupos, numericas y categoricas\n",
        "#Estandarización de variables numéricas para trabajar con el modelo de Regresión logística\n",
        "## pues al intentar hacerlo sin reescalamiento había un aviso de problemas de convergencia, por lo que mejor estandarizamos en este caso\n",
        "\n",
        "numeric_cols = ['age', 'trestbps', 'chol', 'thalach', 'oldpeak']\n",
        "cat_cols = list(set(df.columns) - set(numeric_cols) - {'attack'})\n",
        "cat_cols.sort()\n",
        "\n",
        "print(\"Numerical var:\", numeric_cols)\n",
        "print(\"\\nCategorical var:\", cat_cols)\n",
        "\n",
        "scaler = StandardScaler()\n",
        "scaler.fit(df_train[numeric_cols])\n",
        "\n",
        "def get_features_and_target_arrays(df, numeric_cols, cat_cols, scaler):\n",
        "    X_numeric_scaled = scaler.transform(df[numeric_cols])\n",
        "    X_categorical = df[cat_cols].to_numpy()\n",
        "    X = np.hstack((X_categorical, X_numeric_scaled))\n",
        "    y = df['attack']\n",
        "    return X, y\n",
        "\n",
        "X, y = get_features_and_target_arrays(df_train, numeric_cols, cat_cols, scaler)"
      ]
    },
    {
      "cell_type": "markdown",
      "source": [
        "# **Regresión Logística** \n",
        "La regresión logística es un modelo de regresión supervisado para predecir el valor de uno de esos factores basándose en el otro. Este se basa en encontrar las relaciones entre dos factores de datos.\n",
        "---\n",
        "\n"
      ],
      "metadata": {
        "id": "OhU7AfRe9nBX"
      },
      "id": "OhU7AfRe9nBX"
    },
    {
      "cell_type": "code",
      "execution_count": null,
      "id": "0738624d",
      "metadata": {
        "colab": {
          "base_uri": "https://localhost:8080/",
          "height": 75
        },
        "id": "0738624d",
        "outputId": "a6fcbc68-f5f3-406b-bedf-4a9c147ce7c5"
      },
      "outputs": [
        {
          "output_type": "execute_result",
          "data": {
            "text/plain": [
              "LogisticRegression()"
            ],
            "text/html": [
              "<style>#sk-container-id-3 {color: black;background-color: white;}#sk-container-id-3 pre{padding: 0;}#sk-container-id-3 div.sk-toggleable {background-color: white;}#sk-container-id-3 label.sk-toggleable__label {cursor: pointer;display: block;width: 100%;margin-bottom: 0;padding: 0.3em;box-sizing: border-box;text-align: center;}#sk-container-id-3 label.sk-toggleable__label-arrow:before {content: \"▸\";float: left;margin-right: 0.25em;color: #696969;}#sk-container-id-3 label.sk-toggleable__label-arrow:hover:before {color: black;}#sk-container-id-3 div.sk-estimator:hover label.sk-toggleable__label-arrow:before {color: black;}#sk-container-id-3 div.sk-toggleable__content {max-height: 0;max-width: 0;overflow: hidden;text-align: left;background-color: #f0f8ff;}#sk-container-id-3 div.sk-toggleable__content pre {margin: 0.2em;color: black;border-radius: 0.25em;background-color: #f0f8ff;}#sk-container-id-3 input.sk-toggleable__control:checked~div.sk-toggleable__content {max-height: 200px;max-width: 100%;overflow: auto;}#sk-container-id-3 input.sk-toggleable__control:checked~label.sk-toggleable__label-arrow:before {content: \"▾\";}#sk-container-id-3 div.sk-estimator input.sk-toggleable__control:checked~label.sk-toggleable__label {background-color: #d4ebff;}#sk-container-id-3 div.sk-label input.sk-toggleable__control:checked~label.sk-toggleable__label {background-color: #d4ebff;}#sk-container-id-3 input.sk-hidden--visually {border: 0;clip: rect(1px 1px 1px 1px);clip: rect(1px, 1px, 1px, 1px);height: 1px;margin: -1px;overflow: hidden;padding: 0;position: absolute;width: 1px;}#sk-container-id-3 div.sk-estimator {font-family: monospace;background-color: #f0f8ff;border: 1px dotted black;border-radius: 0.25em;box-sizing: border-box;margin-bottom: 0.5em;}#sk-container-id-3 div.sk-estimator:hover {background-color: #d4ebff;}#sk-container-id-3 div.sk-parallel-item::after {content: \"\";width: 100%;border-bottom: 1px solid gray;flex-grow: 1;}#sk-container-id-3 div.sk-label:hover label.sk-toggleable__label {background-color: #d4ebff;}#sk-container-id-3 div.sk-serial::before {content: \"\";position: absolute;border-left: 1px solid gray;box-sizing: border-box;top: 0;bottom: 0;left: 50%;z-index: 0;}#sk-container-id-3 div.sk-serial {display: flex;flex-direction: column;align-items: center;background-color: white;padding-right: 0.2em;padding-left: 0.2em;position: relative;}#sk-container-id-3 div.sk-item {position: relative;z-index: 1;}#sk-container-id-3 div.sk-parallel {display: flex;align-items: stretch;justify-content: center;background-color: white;position: relative;}#sk-container-id-3 div.sk-item::before, #sk-container-id-3 div.sk-parallel-item::before {content: \"\";position: absolute;border-left: 1px solid gray;box-sizing: border-box;top: 0;bottom: 0;left: 50%;z-index: -1;}#sk-container-id-3 div.sk-parallel-item {display: flex;flex-direction: column;z-index: 1;position: relative;background-color: white;}#sk-container-id-3 div.sk-parallel-item:first-child::after {align-self: flex-end;width: 50%;}#sk-container-id-3 div.sk-parallel-item:last-child::after {align-self: flex-start;width: 50%;}#sk-container-id-3 div.sk-parallel-item:only-child::after {width: 0;}#sk-container-id-3 div.sk-dashed-wrapped {border: 1px dashed gray;margin: 0 0.4em 0.5em 0.4em;box-sizing: border-box;padding-bottom: 0.4em;background-color: white;}#sk-container-id-3 div.sk-label label {font-family: monospace;font-weight: bold;display: inline-block;line-height: 1.2em;}#sk-container-id-3 div.sk-label-container {text-align: center;}#sk-container-id-3 div.sk-container {/* jupyter's `normalize.less` sets `[hidden] { display: none; }` but bootstrap.min.css set `[hidden] { display: none !important; }` so we also need the `!important` here to be able to override the default hidden behavior on the sphinx rendered scikit-learn.org. See: https://github.com/scikit-learn/scikit-learn/issues/21755 */display: inline-block !important;position: relative;}#sk-container-id-3 div.sk-text-repr-fallback {display: none;}</style><div id=\"sk-container-id-3\" class=\"sk-top-container\"><div class=\"sk-text-repr-fallback\"><pre>LogisticRegression()</pre><b>In a Jupyter environment, please rerun this cell to show the HTML representation or trust the notebook. <br />On GitHub, the HTML representation is unable to render, please try loading this page with nbviewer.org.</b></div><div class=\"sk-container\" hidden><div class=\"sk-item\"><div class=\"sk-estimator sk-toggleable\"><input class=\"sk-toggleable__control sk-hidden--visually\" id=\"sk-estimator-id-3\" type=\"checkbox\" checked><label for=\"sk-estimator-id-3\" class=\"sk-toggleable__label sk-toggleable__label-arrow\">LogisticRegression</label><div class=\"sk-toggleable__content\"><pre>LogisticRegression()</pre></div></div></div></div></div>"
            ]
          },
          "metadata": {},
          "execution_count": 48
        }
      ],
      "source": [
        "log = LogisticRegression()\n",
        "\n",
        "log.fit(X, y)"
      ]
    },
    {
      "cell_type": "code",
      "execution_count": null,
      "id": "7f867c1c",
      "metadata": {
        "id": "7f867c1c"
      },
      "outputs": [],
      "source": [
        "#Evaluamos el modelo"
      ]
    },
    {
      "cell_type": "code",
      "execution_count": null,
      "id": "77955d73",
      "metadata": {
        "id": "77955d73"
      },
      "outputs": [],
      "source": [
        "X_test_log, y_test_log = get_features_and_target_arrays(df_test, numeric_cols, cat_cols, scaler)"
      ]
    },
    {
      "cell_type": "code",
      "execution_count": null,
      "id": "c76e3de8",
      "metadata": {
        "scrolled": true,
        "id": "c76e3de8"
      },
      "outputs": [],
      "source": [
        "y_score_log = log.decision_function(X_test_log)"
      ]
    },
    {
      "cell_type": "code",
      "execution_count": null,
      "id": "217d16f5",
      "metadata": {
        "colab": {
          "base_uri": "https://localhost:8080/",
          "height": 490
        },
        "id": "217d16f5",
        "outputId": "c814083a-ae28-4c35-880b-6813f62c1488"
      },
      "outputs": [
        {
          "output_type": "execute_result",
          "data": {
            "text/plain": [
              "Text(0.5, 1.0, 'Curva ROC Logistic Regression')"
            ]
          },
          "metadata": {},
          "execution_count": 58
        },
        {
          "output_type": "display_data",
          "data": {
            "text/plain": [
              "<Figure size 640x480 with 1 Axes>"
            ],
            "image/png": "[encoded data removed]"
          },
          "metadata": {}
        }
      ],
      "source": [
        "fpr_log, tpr_log, _ = sk_metrics.roc_curve(y_test_log, y_score_log, pos_label= log.classes_[1])\n",
        "roc_display_log = sk_metrics.RocCurveDisplay(fpr= fpr_log, tpr= tpr_log).plot()\n",
        "plt.title('Curva ROC Logistic Regression')"
      ]
    },
    {
      "cell_type": "code",
      "execution_count": null,
      "id": "2a94adb5",
      "metadata": {
        "colab": {
          "base_uri": "https://localhost:8080/",
          "height": 470
        },
        "id": "2a94adb5",
        "outputId": "5c5eb357-f20f-4e72-c1df-917f5182c63a"
      },
      "outputs": [
        {
          "output_type": "execute_result",
          "data": {
            "text/plain": [
              "Text(0.5, 1.0, 'Curva ROC contrastada con Random Guessing')"
            ]
          },
          "metadata": {},
          "execution_count": 53
        },
        {
          "output_type": "display_data",
          "data": {
            "text/plain": [
              "<Figure size 640x480 with 1 Axes>"
            ],
            "image/png": "[encoded data removed]"
          },
          "metadata": {}
        }
      ],
      "source": [
        "roc_auc_log = sk_metrics.auc(fpr_log,tpr_log)\n",
        "plt.plot(fpr_log, tpr_log, label=\"ROC fold (area=%0.2f)\"%(roc_auc_log))\n",
        "plt.plot([0,1],[0,1],linestyle=\"--\",color=(0.6,0.6,0.6),label=\"random guessing\")\n",
        "plt.title('Curva ROC contrastada con Random Guessing')"
      ]
    },
    {
      "cell_type": "markdown",
      "source": [
        "Es claro que nuestro modelo de regresión ajusta mucho mejor que la curva segmantada gris, la cual es análoga al lanzar una moneda equilibrada.\n",
        "\n",
        "Nuestro modelo se ajusta más al 1, por ende nos inclinamos en el en vez del random guessing."
      ],
      "metadata": {
        "id": "YK25BSv9Y__X"
      },
      "id": "YK25BSv9Y__X"
    },
    {
      "cell_type": "code",
      "source": [
        "roc_auc_log"
      ],
      "metadata": {
        "colab": {
          "base_uri": "https://localhost:8080/"
        },
        "id": "yrfJP0oRtpq2",
        "outputId": "baf96d46-8ed1-4131-9c09-4b94423d5abe"
      },
      "id": "yrfJP0oRtpq2",
      "execution_count": null,
      "outputs": [
        {
          "output_type": "execute_result",
          "data": {
            "text/plain": [
              "0.9285714285714286"
            ]
          },
          "metadata": {},
          "execution_count": 54
        }
      ]
    },
    {
      "cell_type": "markdown",
      "source": [
        "El valor del AUC, carga un procentaje de 0.93%.\n",
        "\n",
        "Sabemos que el AUC indica que tan bueno es nuestro modelo en función de cuanto más cerca esté del 1.\n",
        "\n",
        "El modelo de regresión puede considerarse bueno en base a este AUC."
      ],
      "metadata": {
        "id": "LD60x4YI32Sy"
      },
      "id": "LD60x4YI32Sy"
    },
    {
      "cell_type": "markdown",
      "id": "835efe93",
      "metadata": {
        "id": "835efe93"
      },
      "source": [
        "# **SVM**\n",
        "El modelo SVM se puede definir como un conjunto de algoritmos de aprendizaje supervisado. Por ejemplo, dado un conjunto de muestras de entrenamiento, podemos etiquetar las clases y entrenar con ellas un modelo SVM, que nos servirá para predecir la clase de una nueva muestra.\n",
        "\n",
        "---\n",
        "\n"
      ]
    },
    {
      "cell_type": "code",
      "execution_count": null,
      "id": "911851b4",
      "metadata": {
        "id": "911851b4"
      },
      "outputs": [],
      "source": [
        "import matplotlib.pyplot as plt\n",
        "from sklearn import svm\n",
        "from sklearn.datasets import make_blobs\n",
        "from sklearn.inspection import DecisionBoundaryDisplay"
      ]
    },
    {
      "cell_type": "code",
      "execution_count": null,
      "id": "4c1c93c9",
      "metadata": {
        "id": "4c1c93c9"
      },
      "outputs": [],
      "source": [
        "y = df[\"attack\"]\n",
        "X = df.drop('attack',axis=1)\n",
        "X_train_svm, X_test_svm, y_train_svm, y_test_svm = train_test_split(X, y, test_size=0.20, random_state = 123, stratify=df['attack'])"
      ]
    },
    {
      "cell_type": "code",
      "execution_count": null,
      "id": "18612a58",
      "metadata": {
        "colab": {
          "base_uri": "https://localhost:8080/"
        },
        "id": "18612a58",
        "outputId": "7f0c2faf-0cfe-46c9-a228-c6e1bb0846f9"
      },
      "outputs": [
        {
          "output_type": "stream",
          "name": "stdout",
          "text": [
            "confussion matrix\n",
            "[[28  5]\n",
            " [ 6 14]]\n",
            "\n",
            "\n",
            "Accuracy of Support Vector Classifier: 79.24528301886792 \n",
            "\n",
            "              precision    recall  f1-score   support\n",
            "\n",
            "           0       0.82      0.85      0.84        33\n",
            "           1       0.74      0.70      0.72        20\n",
            "\n",
            "    accuracy                           0.79        53\n",
            "   macro avg       0.78      0.77      0.78        53\n",
            "weighted avg       0.79      0.79      0.79        53\n",
            "\n"
          ]
        }
      ],
      "source": [
        "svc =  svm.SVC(kernel='linear', C=1)\n",
        "svc.fit(X_train_svm, y_train_svm)\n",
        "\n",
        "svc_predicted = svc.predict(X_test_svm)\n",
        "\n",
        "svc_conf_matrix = sk_metrics.confusion_matrix(y_test_svm, svc_predicted)\n",
        "svc_acc_score = sk_metrics.accuracy_score(y_test_svm, svc_predicted)\n",
        "\n",
        "print(\"confussion matrix\")\n",
        "print(svc_conf_matrix)\n",
        "print(\"\\n\")\n",
        "print(\"Accuracy of Support Vector Classifier:\", svc_acc_score*100,'\\n')\n",
        "print(sk_metrics.classification_report(y_test_svm, svc_predicted))\n",
        "\n"
      ]
    },
    {
      "cell_type": "markdown",
      "source": [
        "En esta instancia pordemos ver algunos valores de métricas de desempeño como por ejemplo el F1. Donde de igual manera podemos decir que nuestro modelo está ajustando relativamente bien ya que es medianamente cercana a 1; sin contemplar gráficas aún."
      ],
      "metadata": {
        "id": "2hCfJBN0bMlW"
      },
      "id": "2hCfJBN0bMlW"
    },
    {
      "cell_type": "code",
      "source": [
        "y_score_svm = svc.decision_function(X_test_svm.to_numpy())"
      ],
      "metadata": {
        "colab": {
          "base_uri": "https://localhost:8080/"
        },
        "id": "1Fb4dukN1er8",
        "outputId": "59ffebd6-1d76-48fd-9f32-a520faab8ff5"
      },
      "id": "1Fb4dukN1er8",
      "execution_count": null,
      "outputs": [
        {
          "output_type": "stream",
          "name": "stderr",
          "text": [
            "/usr/local/lib/python3.10/dist-packages/sklearn/base.py:439: UserWarning: X does not have valid feature names, but SVC was fitted with feature names\n",
            "  warnings.warn(\n"
          ]
        }
      ]
    },
    {
      "cell_type": "code",
      "source": [
        "fpr_svm, tpr_svm, _ = sk_metrics.roc_curve(y_test_svm, y_score_svm)\n",
        "roc_display_svm = sk_metrics.RocCurveDisplay(fpr= fpr_svm, tpr= tpr_svm).plot()\n",
        "plt.title('Curva ROC SVM')\n"
      ],
      "metadata": {
        "colab": {
          "base_uri": "https://localhost:8080/",
          "height": 490
        },
        "id": "_cn8N8WwqiNZ",
        "outputId": "d0bd7245-5e3c-4db7-dec7-61c3d93649bf"
      },
      "id": "_cn8N8WwqiNZ",
      "execution_count": null,
      "outputs": [
        {
          "output_type": "execute_result",
          "data": {
            "text/plain": [
              "Text(0.5, 1.0, 'Curva ROC SVM')"
            ]
          },
          "metadata": {},
          "execution_count": 59
        },
        {
          "output_type": "display_data",
          "data": {
            "text/plain": [
              "<Figure size 640x480 with 1 Axes>"
            ],
            "image/png": "[encoded data removed]"
          },
          "metadata": {}
        }
      ]
    },
    {
      "cell_type": "code",
      "source": [
        "roc_auc_svm=sk_metrics.auc(fpr_svm,tpr_svm)\n",
        "plt.plot(fpr_svm, tpr_svm, label=\"ROC fold (area=%0.2f)\"%(roc_auc_svm))\n",
        "plt.plot([0,1],[0,1],linestyle=\"--\",color=(0.6,0.6,0.6),label=\"random guessing\")\n",
        "plt.title('Curva ROC SVM contrastada con Random Guessing')\n",
        "\n"
      ],
      "metadata": {
        "colab": {
          "base_uri": "https://localhost:8080/",
          "height": 470
        },
        "id": "4FDbMSVCwZD9",
        "outputId": "d79ea601-ccaf-4d26-c62d-eceb663eff68"
      },
      "id": "4FDbMSVCwZD9",
      "execution_count": null,
      "outputs": [
        {
          "output_type": "execute_result",
          "data": {
            "text/plain": [
              "Text(0.5, 1.0, 'Curva ROC SVM contrastada con Random Guessing')"
            ]
          },
          "metadata": {},
          "execution_count": 60
        },
        {
          "output_type": "display_data",
          "data": {
            "text/plain": [
              "<Figure size 640x480 with 1 Axes>"
            ],
            "image/png": "[encoded data removed]"
          },
          "metadata": {}
        }
      ]
    },
    {
      "cell_type": "code",
      "source": [
        "roc_auc_svm"
      ],
      "metadata": {
        "colab": {
          "base_uri": "https://localhost:8080/"
        },
        "id": "1DE2vlKv118N",
        "outputId": "4f64a40b-e9a8-4b38-87a3-3f2035d9f330"
      },
      "id": "1DE2vlKv118N",
      "execution_count": null,
      "outputs": [
        {
          "output_type": "execute_result",
          "data": {
            "text/plain": [
              "0.8530303030303031"
            ]
          },
          "metadata": {},
          "execution_count": 61
        }
      ]
    },
    {
      "cell_type": "markdown",
      "source": [
        "Similarmente al modelo anterior, este está ajustando bien al 85%, pero es menor que el modelo anterior."
      ],
      "metadata": {
        "id": "xFnVUuIxcGq9"
      },
      "id": "xFnVUuIxcGq9"
    },
    {
      "cell_type": "markdown",
      "source": [
        "# **Naive Bayes**\n",
        "Los modelos de Naive Bayes se basan en una técnica de clasificación estadística llamada “teorema de Bayes”. Son llamados algoritmos “Naive”, o “Inocentes” en español, pues en ellos se asume que las variables predictoras son independientes entre sí, por lo tanto proporcionan una manera fácil de construir modelos con un comportamiento muy bueno debido a su simplicidad.\n",
        "\n",
        "---\n",
        "\n"
      ],
      "metadata": {
        "id": "YYr58o91j4hX"
      },
      "id": "YYr58o91j4hX"
    },
    {
      "cell_type": "code",
      "source": [
        "import seaborn as sns\n",
        "import matplotlib.pyplot as plt\n",
        "from sklearn.datasets import make_classification"
      ],
      "metadata": {
        "id": "Fry0rmBlnOqb"
      },
      "id": "Fry0rmBlnOqb",
      "execution_count": null,
      "outputs": []
    },
    {
      "cell_type": "code",
      "source": [
        "y = df[\"attack\"]\n",
        "X = df.drop('attack',axis=1)\n",
        "\n",
        "X_train_nb, X_test_nb, y_train_nb, y_test_nb = train_test_split(\n",
        "    X, y, test_size=0.3, random_state=125\n",
        ")"
      ],
      "metadata": {
        "id": "b310a_r9m3UC"
      },
      "id": "b310a_r9m3UC",
      "execution_count": null,
      "outputs": []
    },
    {
      "cell_type": "code",
      "source": [
        "from sklearn.naive_bayes import GaussianNB\n",
        "\n",
        "gnb = GaussianNB()\n",
        "\n",
        "gnb.fit(X_train_nb, y_train_nb);"
      ],
      "metadata": {
        "id": "FaWdeYt5yOib"
      },
      "id": "FaWdeYt5yOib",
      "execution_count": null,
      "outputs": []
    },
    {
      "cell_type": "code",
      "source": [
        "from sklearn.metrics import (\n",
        "    accuracy_score,\n",
        "    confusion_matrix,\n",
        "    ConfusionMatrixDisplay,\n",
        "    f1_score,\n",
        "    classification_report,\n",
        ")\n",
        "\n",
        "y_pred_nb = gnb.fit(X_train_nb, y_train_nb).predict(X_test_nb)\n",
        "\n",
        "accuray_nb = accuracy_score(y_pred_nb, y_test_nb)\n",
        "f1_nb = f1_score(y_pred_nb, y_test_nb, average=\"weighted\")\n",
        "\n",
        "print(\"Accuracy:\", accuray_nb)\n",
        "print(\"F1 Score:\", f1_nb)"
      ],
      "metadata": {
        "colab": {
          "base_uri": "https://localhost:8080/"
        },
        "id": "KE1HLWPhyWJq",
        "outputId": "5fcf68fc-7d3f-499b-f8cf-411338d45d67"
      },
      "id": "KE1HLWPhyWJq",
      "execution_count": null,
      "outputs": [
        {
          "output_type": "stream",
          "name": "stdout",
          "text": [
            "Accuracy: 0.759493670886076\n",
            "F1 Score: 0.754399097277308\n"
          ]
        }
      ]
    },
    {
      "cell_type": "markdown",
      "source": [
        "Este modelo GNB según sus métricas de desmpeño, está ajustando al 76%, que podría seguir bueno, pero hasta ahora es el más bajo de todos."
      ],
      "metadata": {
        "id": "s0PHX7ZJdplr"
      },
      "id": "s0PHX7ZJdplr"
    },
    {
      "cell_type": "code",
      "source": [
        "from sklearn.naive_bayes import GaussianNB\n",
        "from sklearn.linear_model import LogisticRegression \n",
        "from sklearn.metrics import roc_curve, auc\n",
        "from sklearn.model_selection import train_test_split"
      ],
      "metadata": {
        "id": "PYTpUPhH5W4_"
      },
      "id": "PYTpUPhH5W4_",
      "execution_count": null,
      "outputs": []
    },
    {
      "cell_type": "code",
      "source": [
        "y_gnb_score = gnb.predict_proba(X_test_nb)"
      ],
      "metadata": {
        "id": "y8RPvHpZ44N9"
      },
      "id": "y8RPvHpZ44N9",
      "execution_count": null,
      "outputs": []
    },
    {
      "cell_type": "code",
      "source": [
        "fpr_gnb, tpr_gnb, thresholds_gnb = roc_curve(y_test_nb, y_gnb_score[:, 1])\n",
        "roc_display_gnb = sk_metrics.RocCurveDisplay(fpr= fpr_gnb, tpr= tpr_gnb).plot()\n",
        "plt.title('Curva ROC GNB')\n"
      ],
      "metadata": {
        "colab": {
          "base_uri": "https://localhost:8080/",
          "height": 490
        },
        "id": "mUDDN72p4_gH",
        "outputId": "7a78d524-3e67-4519-abb5-1d7ac1fd1a65"
      },
      "id": "mUDDN72p4_gH",
      "execution_count": null,
      "outputs": [
        {
          "output_type": "execute_result",
          "data": {
            "text/plain": [
              "Text(0.5, 1.0, 'Curva ROC GNB')"
            ]
          },
          "metadata": {},
          "execution_count": 64
        },
        {
          "output_type": "display_data",
          "data": {
            "text/plain": [
              "<Figure size 640x480 with 1 Axes>"
            ],
            "image/png": "[encoded data removed]"
          },
          "metadata": {}
        }
      ]
    },
    {
      "cell_type": "code",
      "source": [
        "roc_auc_gnb=sk_metrics.auc(fpr_gnb,tpr_gnb)\n",
        "plt.plot(fpr_gnb, tpr_gnb, label=\"ROC fold (area=%0.2f)\"%(roc_auc_gnb))\n",
        "plt.plot([0,1],[0,1],linestyle=\"--\",color=(0.6,0.6,0.6),label=\"random guessing\")\n",
        "plt.title('Curva ROC GNB contrastada con Random Guessing')"
      ],
      "metadata": {
        "colab": {
          "base_uri": "https://localhost:8080/",
          "height": 470
        },
        "id": "BkGcAXte4_cu",
        "outputId": "4ba03b49-d4cf-42f6-8846-4511b3c1891c"
      },
      "id": "BkGcAXte4_cu",
      "execution_count": null,
      "outputs": [
        {
          "output_type": "execute_result",
          "data": {
            "text/plain": [
              "Text(0.5, 1.0, 'Curva ROC GNB contrastada con Random Guessing')"
            ]
          },
          "metadata": {},
          "execution_count": 65
        },
        {
          "output_type": "display_data",
          "data": {
            "text/plain": [
              "<Figure size 640x480 with 1 Axes>"
            ],
            "image/png": "[encoded data removed]"
          },
          "metadata": {}
        }
      ]
    },
    {
      "cell_type": "code",
      "source": [
        "roc_auc_gnb"
      ],
      "metadata": {
        "colab": {
          "base_uri": "https://localhost:8080/"
        },
        "id": "DCXRShk26Duz",
        "outputId": "3dd9c5f6-2f32-4884-d0d6-accee78ca445"
      },
      "id": "DCXRShk26Duz",
      "execution_count": null,
      "outputs": [
        {
          "output_type": "execute_result",
          "data": {
            "text/plain": [
              "0.8222222222222222"
            ]
          },
          "metadata": {},
          "execution_count": 29
        }
      ]
    },
    {
      "cell_type": "markdown",
      "source": [
        "El AUC de este modelo está ajustando al 82%, lo cual se coloca sólo un poco detrás del SVM."
      ],
      "metadata": {
        "id": "y5DxEDfneVEu"
      },
      "id": "y5DxEDfneVEu"
    },
    {
      "cell_type": "markdown",
      "source": [
        "# **LDA**\n",
        "El análisis discriminante linear (LDA) es un algoritmo de aprendizaje supervisado que se utiliza para tareas de clasificación en Machine Learning. Es una técnica utilizada para encontrar una combinación lineal de características que mejor separe las clases en un conjunto de datos.\n",
        "\n",
        "---\n",
        "\n"
      ],
      "metadata": {
        "id": "GaqKG42x-G9i"
      },
      "id": "GaqKG42x-G9i"
    },
    {
      "cell_type": "code",
      "source": [
        "from sklearn.discriminant_analysis import LinearDiscriminantAnalysis as LDA"
      ],
      "metadata": {
        "id": "awc6FfgFOf-c"
      },
      "id": "awc6FfgFOf-c",
      "execution_count": null,
      "outputs": []
    },
    {
      "cell_type": "code",
      "source": [
        "y = df[\"attack\"]\n",
        "X = df.drop('attack',axis=1)\n",
        "\n",
        "X_train_lda, X_test_lda, y_train_lda, y_test_lda = train_test_split(\n",
        "    X, y, test_size=0.3, random_state=125)"
      ],
      "metadata": {
        "id": "Ma6n5XWUNnYc"
      },
      "id": "Ma6n5XWUNnYc",
      "execution_count": null,
      "outputs": []
    },
    {
      "cell_type": "code",
      "source": [
        "lda = LDA()\n",
        "\n",
        "lda.fit(X_train_lda, y_train_lda);"
      ],
      "metadata": {
        "id": "maePyXTcN9Mu"
      },
      "id": "maePyXTcN9Mu",
      "execution_count": null,
      "outputs": []
    },
    {
      "cell_type": "code",
      "source": [
        "y_lda_score = lda.predict_proba(X_test_lda)"
      ],
      "metadata": {
        "id": "My0K35bsEUsf"
      },
      "id": "My0K35bsEUsf",
      "execution_count": null,
      "outputs": []
    },
    {
      "cell_type": "code",
      "source": [
        "fpr_lda, tpr_lda, thresholds_lda = roc_curve(y_test_lda, y_lda_score[:, 1])\n",
        "roc_display_lda = sk_metrics.RocCurveDisplay(fpr= fpr_lda, tpr= tpr_lda).plot()\n",
        "plt.title('Curva ROC LDA')"
      ],
      "metadata": {
        "colab": {
          "base_uri": "https://localhost:8080/",
          "height": 490
        },
        "id": "cooNLE5NEe7p",
        "outputId": "62326890-2bc4-47ae-ad87-79dc3e157eff"
      },
      "id": "cooNLE5NEe7p",
      "execution_count": null,
      "outputs": [
        {
          "output_type": "execute_result",
          "data": {
            "text/plain": [
              "Text(0.5, 1.0, 'Curva ROC LDA')"
            ]
          },
          "metadata": {},
          "execution_count": 66
        },
        {
          "output_type": "display_data",
          "data": {
            "text/plain": [
              "<Figure size 640x480 with 1 Axes>"
            ],
            "image/png": "[encoded data removed]"
          },
          "metadata": {}
        }
      ]
    },
    {
      "cell_type": "code",
      "source": [
        "roc_auc_lda =sk_metrics.auc(fpr_lda,tpr_lda)\n",
        "plt.plot(fpr_lda, tpr_lda, label=\"ROC fold (area=%0.2f)\"%(roc_auc_lda))\n",
        "plt.plot([0,1],[0,1],linestyle=\"--\",color=(0.6,0.6,0.6),label=\"random guessing\")\n",
        "plt.title('Curva ROC LDA constrastada con Random Guessing')"
      ],
      "metadata": {
        "colab": {
          "base_uri": "https://localhost:8080/",
          "height": 470
        },
        "id": "lbaCKDx7EjU3",
        "outputId": "cc037050-653e-4d5b-e7e6-e86930150fa3"
      },
      "id": "lbaCKDx7EjU3",
      "execution_count": null,
      "outputs": [
        {
          "output_type": "execute_result",
          "data": {
            "text/plain": [
              "Text(0.5, 1.0, 'Curva ROC LDA constrastada con Random Guessing')"
            ]
          },
          "metadata": {},
          "execution_count": 67
        },
        {
          "output_type": "display_data",
          "data": {
            "text/plain": [
              "<Figure size 640x480 with 1 Axes>"
            ],
            "image/png": "[encoded data removed]"
          },
          "metadata": {}
        }
      ]
    },
    {
      "cell_type": "code",
      "source": [
        "roc_auc_lda"
      ],
      "metadata": {
        "colab": {
          "base_uri": "https://localhost:8080/"
        },
        "id": "qtFYeGkDFGyw",
        "outputId": "cd9ff70c-025e-4a12-a74e-da361aa575d1"
      },
      "id": "qtFYeGkDFGyw",
      "execution_count": null,
      "outputs": [
        {
          "output_type": "execute_result",
          "data": {
            "text/plain": [
              "0.8577777777777778"
            ]
          },
          "metadata": {},
          "execution_count": 68
        }
      ]
    },
    {
      "cell_type": "markdown",
      "source": [
        "Según el AUC de este modelo LDA se coloca al mismo nivel de buen ajuste que el SVM."
      ],
      "metadata": {
        "id": "PZ08HIUqfM1V"
      },
      "id": "PZ08HIUqfM1V"
    },
    {
      "cell_type": "markdown",
      "source": [
        "# **QDA**\n",
        "\n",
        "---\n"
      ],
      "metadata": {
        "id": "28WcKM27-PsZ"
      },
      "id": "28WcKM27-PsZ"
    },
    {
      "cell_type": "markdown",
      "source": [
        "Este método es similar al LDA y también asume que las observaciones de cada clase se distribuyen normalmente, pero no asume que cada clase comparta la misma matriz de covarianza. En cambio, QDA supone que cada clase tiene su propia matriz de covarianza."
      ],
      "metadata": {
        "id": "ErokIt1fjCPT"
      },
      "id": "ErokIt1fjCPT"
    },
    {
      "cell_type": "code",
      "source": [
        "from sklearn.discriminant_analysis import QuadraticDiscriminantAnalysis as QDA"
      ],
      "metadata": {
        "id": "Mo9r0wm2HiXw"
      },
      "id": "Mo9r0wm2HiXw",
      "execution_count": null,
      "outputs": []
    },
    {
      "cell_type": "code",
      "source": [
        "y = df[\"attack\"]\n",
        "X = df.drop('attack',axis=1)\n",
        "\n",
        "X_train_qda, X_test_qda, y_train_qda, y_test_qda = train_test_split(\n",
        "    X, y, test_size=0.3, random_state=125\n",
        ")"
      ],
      "metadata": {
        "id": "sdhO4IfGGug2"
      },
      "id": "sdhO4IfGGug2",
      "execution_count": null,
      "outputs": []
    },
    {
      "cell_type": "code",
      "source": [
        "qda = QDA()\n",
        "qda.fit(X_train_qda, y_train_qda)"
      ],
      "metadata": {
        "colab": {
          "base_uri": "https://localhost:8080/",
          "height": 75
        },
        "id": "Ea7MyHM8Ht85",
        "outputId": "c939ad48-f152-4390-e426-6bbd64de45f6"
      },
      "id": "Ea7MyHM8Ht85",
      "execution_count": null,
      "outputs": [
        {
          "output_type": "execute_result",
          "data": {
            "text/plain": [
              "QuadraticDiscriminantAnalysis()"
            ],
            "text/html": [
              "<style>#sk-container-id-2 {color: black;background-color: white;}#sk-container-id-2 pre{padding: 0;}#sk-container-id-2 div.sk-toggleable {background-color: white;}#sk-container-id-2 label.sk-toggleable__label {cursor: pointer;display: block;width: 100%;margin-bottom: 0;padding: 0.3em;box-sizing: border-box;text-align: center;}#sk-container-id-2 label.sk-toggleable__label-arrow:before {content: \"▸\";float: left;margin-right: 0.25em;color: #696969;}#sk-container-id-2 label.sk-toggleable__label-arrow:hover:before {color: black;}#sk-container-id-2 div.sk-estimator:hover label.sk-toggleable__label-arrow:before {color: black;}#sk-container-id-2 div.sk-toggleable__content {max-height: 0;max-width: 0;overflow: hidden;text-align: left;background-color: #f0f8ff;}#sk-container-id-2 div.sk-toggleable__content pre {margin: 0.2em;color: black;border-radius: 0.25em;background-color: #f0f8ff;}#sk-container-id-2 input.sk-toggleable__control:checked~div.sk-toggleable__content {max-height: 200px;max-width: 100%;overflow: auto;}#sk-container-id-2 input.sk-toggleable__control:checked~label.sk-toggleable__label-arrow:before {content: \"▾\";}#sk-container-id-2 div.sk-estimator input.sk-toggleable__control:checked~label.sk-toggleable__label {background-color: #d4ebff;}#sk-container-id-2 div.sk-label input.sk-toggleable__control:checked~label.sk-toggleable__label {background-color: #d4ebff;}#sk-container-id-2 input.sk-hidden--visually {border: 0;clip: rect(1px 1px 1px 1px);clip: rect(1px, 1px, 1px, 1px);height: 1px;margin: -1px;overflow: hidden;padding: 0;position: absolute;width: 1px;}#sk-container-id-2 div.sk-estimator {font-family: monospace;background-color: #f0f8ff;border: 1px dotted black;border-radius: 0.25em;box-sizing: border-box;margin-bottom: 0.5em;}#sk-container-id-2 div.sk-estimator:hover {background-color: #d4ebff;}#sk-container-id-2 div.sk-parallel-item::after {content: \"\";width: 100%;border-bottom: 1px solid gray;flex-grow: 1;}#sk-container-id-2 div.sk-label:hover label.sk-toggleable__label {background-color: #d4ebff;}#sk-container-id-2 div.sk-serial::before {content: \"\";position: absolute;border-left: 1px solid gray;box-sizing: border-box;top: 0;bottom: 0;left: 50%;z-index: 0;}#sk-container-id-2 div.sk-serial {display: flex;flex-direction: column;align-items: center;background-color: white;padding-right: 0.2em;padding-left: 0.2em;position: relative;}#sk-container-id-2 div.sk-item {position: relative;z-index: 1;}#sk-container-id-2 div.sk-parallel {display: flex;align-items: stretch;justify-content: center;background-color: white;position: relative;}#sk-container-id-2 div.sk-item::before, #sk-container-id-2 div.sk-parallel-item::before {content: \"\";position: absolute;border-left: 1px solid gray;box-sizing: border-box;top: 0;bottom: 0;left: 50%;z-index: -1;}#sk-container-id-2 div.sk-parallel-item {display: flex;flex-direction: column;z-index: 1;position: relative;background-color: white;}#sk-container-id-2 div.sk-parallel-item:first-child::after {align-self: flex-end;width: 50%;}#sk-container-id-2 div.sk-parallel-item:last-child::after {align-self: flex-start;width: 50%;}#sk-container-id-2 div.sk-parallel-item:only-child::after {width: 0;}#sk-container-id-2 div.sk-dashed-wrapped {border: 1px dashed gray;margin: 0 0.4em 0.5em 0.4em;box-sizing: border-box;padding-bottom: 0.4em;background-color: white;}#sk-container-id-2 div.sk-label label {font-family: monospace;font-weight: bold;display: inline-block;line-height: 1.2em;}#sk-container-id-2 div.sk-label-container {text-align: center;}#sk-container-id-2 div.sk-container {/* jupyter's `normalize.less` sets `[hidden] { display: none; }` but bootstrap.min.css set `[hidden] { display: none !important; }` so we also need the `!important` here to be able to override the default hidden behavior on the sphinx rendered scikit-learn.org. See: https://github.com/scikit-learn/scikit-learn/issues/21755 */display: inline-block !important;position: relative;}#sk-container-id-2 div.sk-text-repr-fallback {display: none;}</style><div id=\"sk-container-id-2\" class=\"sk-top-container\"><div class=\"sk-text-repr-fallback\"><pre>QuadraticDiscriminantAnalysis()</pre><b>In a Jupyter environment, please rerun this cell to show the HTML representation or trust the notebook. <br />On GitHub, the HTML representation is unable to render, please try loading this page with nbviewer.org.</b></div><div class=\"sk-container\" hidden><div class=\"sk-item\"><div class=\"sk-estimator sk-toggleable\"><input class=\"sk-toggleable__control sk-hidden--visually\" id=\"sk-estimator-id-2\" type=\"checkbox\" checked><label for=\"sk-estimator-id-2\" class=\"sk-toggleable__label sk-toggleable__label-arrow\">QuadraticDiscriminantAnalysis</label><div class=\"sk-toggleable__content\"><pre>QuadraticDiscriminantAnalysis()</pre></div></div></div></div></div>"
            ]
          },
          "metadata": {},
          "execution_count": 39
        }
      ]
    },
    {
      "cell_type": "code",
      "source": [
        "y_score_qda = qda.predict_proba(X_test_qda)"
      ],
      "metadata": {
        "id": "73TYdTc1IqRP"
      },
      "id": "73TYdTc1IqRP",
      "execution_count": null,
      "outputs": []
    },
    {
      "cell_type": "code",
      "source": [
        "fpr_qda, tpr_qda, thresholds_qda = roc_curve(y_test_qda, y_score_qda[:, 1])\n",
        "roc_display_qda = sk_metrics.RocCurveDisplay(fpr= fpr_qda, tpr= tpr_qda).plot()\n",
        "plt.title('Curva ROC LDA')"
      ],
      "metadata": {
        "colab": {
          "base_uri": "https://localhost:8080/",
          "height": 490
        },
        "id": "7wrsoT05I8oN",
        "outputId": "9dca5906-56a2-4f1f-c649-77695f76c0df"
      },
      "id": "7wrsoT05I8oN",
      "execution_count": null,
      "outputs": [
        {
          "output_type": "execute_result",
          "data": {
            "text/plain": [
              "Text(0.5, 1.0, 'Curva ROC LDA')"
            ]
          },
          "metadata": {},
          "execution_count": 70
        },
        {
          "output_type": "display_data",
          "data": {
            "text/plain": [
              "<Figure size 640x480 with 1 Axes>"
            ],
            "image/png": "[encoded data removed]"
          },
          "metadata": {}
        }
      ]
    },
    {
      "cell_type": "code",
      "source": [
        "roc_auc_qda = sk_metrics.auc(fpr_qda,tpr_qda)\n",
        "plt.plot(fpr_qda, tpr_qda, label=\"ROC fold (area=%0.2f)\"%(roc_auc_qda))\n",
        "plt.plot([0,1],[0,1],linestyle=\"--\",color=(0.6,0.6,0.6),label=\"random guessing\")\n",
        "plt.title('Curva ROC LDA contrastada con Random Guessing')"
      ],
      "metadata": {
        "colab": {
          "base_uri": "https://localhost:8080/",
          "height": 470
        },
        "id": "aZjeONFvJRLh",
        "outputId": "1f376a85-e3ad-4aba-ed99-0cb497869a8f"
      },
      "id": "aZjeONFvJRLh",
      "execution_count": null,
      "outputs": [
        {
          "output_type": "execute_result",
          "data": {
            "text/plain": [
              "Text(0.5, 1.0, 'Curva ROC LDA contrastada con Random Guessing')"
            ]
          },
          "metadata": {},
          "execution_count": 71
        },
        {
          "output_type": "display_data",
          "data": {
            "text/plain": [
              "<Figure size 640x480 with 1 Axes>"
            ],
            "image/png": "[encoded data removed]"
          },
          "metadata": {}
        }
      ]
    },
    {
      "cell_type": "code",
      "source": [
        "roc_auc_qda"
      ],
      "metadata": {
        "colab": {
          "base_uri": "https://localhost:8080/"
        },
        "id": "-WG2qjDeGtXz",
        "outputId": "6f51ad94-18e5-4486-c53e-f108eeee9be0"
      },
      "id": "-WG2qjDeGtXz",
      "execution_count": null,
      "outputs": [
        {
          "output_type": "execute_result",
          "data": {
            "text/plain": [
              "0.8103703703703703"
            ]
          },
          "metadata": {},
          "execution_count": 43
        }
      ]
    },
    {
      "cell_type": "markdown",
      "source": [
        "Notamos que el AUC de este modelo está ajustando al 81%, lo cual lo coloca detrás del GNB"
      ],
      "metadata": {
        "id": "lDuw8E0NfmHj"
      },
      "id": "lDuw8E0NfmHj"
    },
    {
      "cell_type": "markdown",
      "source": [
        "# **Análisis**"
      ],
      "metadata": {
        "id": "lkMcJgSr-R6W"
      },
      "id": "lkMcJgSr-R6W"
    },
    {
      "cell_type": "code",
      "source": [
        "from sklearn.metrics import (\n",
        "    accuracy_score,\n",
        "    confusion_matrix,\n",
        "    ConfusionMatrixDisplay,\n",
        "    f1_score,\n",
        "    classification_report,\n",
        ")\n",
        "\n",
        "y_pred_log = log.fit(X, y).predict(X_test_log)\n",
        "y_pred_svm = svc.fit(X_train_svm, y_train_svm).predict(X_test_svm)\n",
        "y_pred_nb = gnb.fit(X_train_nb, y_train_nb).predict(X_test_nb)\n",
        "y_pred_lda = lda.fit(X_train_lda, y_train_lda).predict(X_test_lda)\n",
        "y_pred_qda = qda.fit(X_train_qda, y_train_qda).predict(X_test_qda)\n",
        "\n",
        "accuray_log = accuracy_score(y_pred_log, y_test_log)\n",
        "f1_log = f1_score(y_pred_log, y_test_log, average=\"weighted\")\n",
        "accuray_svm = accuracy_score(y_pred_svm, y_test_svm)\n",
        "f1_svm = f1_score(y_pred_svm, y_test_svm, average=\"weighted\")\n",
        "accuray_nb = accuracy_score(y_pred_nb, y_test_nb)\n",
        "f1_nb = f1_score(y_pred_nb, y_test_nb, average=\"weighted\")\n",
        "accuray_lda = accuracy_score(y_pred_lda, y_test_lda)\n",
        "f1_lda = f1_score(y_pred_lda, y_test_lda, average=\"weighted\")\n",
        "accuray_qda = accuracy_score(y_pred_qda, y_test_qda)\n",
        "f1_qda = f1_score(y_pred_qda, y_test_qda, average=\"weighted\")"
      ],
      "metadata": {
        "colab": {
          "base_uri": "https://localhost:8080/"
        },
        "id": "akZ0YCpWCEk3",
        "outputId": "3bc8e2fc-4767-4362-cfbe-0133157a58d6"
      },
      "id": "akZ0YCpWCEk3",
      "execution_count": null,
      "outputs": [
        {
          "output_type": "stream",
          "name": "stderr",
          "text": [
            "/usr/local/lib/python3.10/dist-packages/sklearn/linear_model/_logistic.py:458: ConvergenceWarning: lbfgs failed to converge (status=1):\n",
            "STOP: TOTAL NO. of ITERATIONS REACHED LIMIT.\n",
            "\n",
            "Increase the number of iterations (max_iter) or scale the data as shown in:\n",
            "    https://scikit-learn.org/stable/modules/preprocessing.html\n",
            "Please also refer to the documentation for alternative solver options:\n",
            "    https://scikit-learn.org/stable/modules/linear_model.html#logistic-regression\n",
            "  n_iter_i = _check_optimize_result(\n",
            "/usr/local/lib/python3.10/dist-packages/sklearn/base.py:439: UserWarning: X does not have valid feature names, but LogisticRegression was fitted with feature names\n",
            "  warnings.warn(\n"
          ]
        }
      ]
    },
    {
      "cell_type": "markdown",
      "source": [
        "Para realizar una comparación más sencilla a la vista, realizamos una tabla donde resumiremos las medidas de desmepeño de los modelos."
      ],
      "metadata": {
        "id": "m7tn1b5Mf6Vk"
      },
      "id": "m7tn1b5Mf6Vk"
    },
    {
      "cell_type": "code",
      "source": [
        "# Tabla de comparaciones \n",
        "\n",
        "desem = [ [\"LG\", roc_auc_log, accuray_log, f1_log],\n",
        "     [\"SVM\", roc_auc_svm, accuray_svm, f1_svm],\n",
        "     [\"GNB\", roc_auc_gnb, accuray_nb, f1_nb],\n",
        "     [\"LDA\", roc_auc_lda, accuray_lda, f1_lda],\n",
        "     [\"QDA\", roc_auc_qda, accuray_qda, f1_qda]]\n",
        "     \n",
        "print (\"{:<8} {:<10}   {:<20}  {:<30}\".format('Modelo','AUC','        Accuracy','        F1'))\n",
        "\n",
        "for v in desem:\n",
        "    Modelo, AUC, Accuracy, F1= v\n",
        "    print (\"{:<8} {:<10}   {:<20}  {:<30}\".format( Modelo, AUC, Accuracy, F1))"
      ],
      "metadata": {
        "colab": {
          "base_uri": "https://localhost:8080/"
        },
        "id": "RCFAHPmcF8z9",
        "outputId": "f3927de0-59fb-429d-f1ba-2b811a3912c4"
      },
      "id": "RCFAHPmcF8z9",
      "execution_count": null,
      "outputs": [
        {
          "output_type": "stream",
          "name": "stdout",
          "text": [
            "Modelo   AUC                  Accuracy              F1                    \n",
            "LG       0.9285714285714286   0.7088607594936709    0.7054894200667985            \n",
            "SVM      0.8530303030303031   0.7924528301886793    0.7935648318639026            \n",
            "GNB      0.8222222222222222   0.759493670886076     0.754399097277308             \n",
            "LDA      0.8577777777777778   0.7974683544303798    0.7974683544303798            \n",
            "QDA      0.8103703703703703   0.759493670886076     0.754399097277308             \n"
          ]
        }
      ]
    },
    {
      "cell_type": "markdown",
      "source": [
        "Si nos basamos en AUC nuestros modelos ordenados de mejor a peor son: LG, LDA, SVM, GNB y QDA.\n",
        "\n",
        "Si nos basamos en Accuracy el orden es: LDA, SVM, QDA, GNB y LG.\n",
        "\n",
        "Si nos basamos en F1 los ordenes serán: LDA, SVM, QDA, GNB y LG.\n",
        "\n",
        "Es preciso notar que dado el tamaño del test_train y según la semilla que escojamos, nuestras métricas de desempeño pueden variar e indicar que no necesariamente se preserve el orden de los mejores modelos.\n",
        "\n",
        "Además para finalizar debemos remarcar que no es correcto preferir una métrica de desempeño sobre otra, sólo son ilustrativas entre sí, i.e no hacen alusión a decir que una métrica es mejor que otra para decidir en cuál de ellas basarse para la elección de nuestro modelo."
      ],
      "metadata": {
        "id": "MJOgoxyKgQ64"
      },
      "id": "MJOgoxyKgQ64"
    }
  ],
  "metadata": {
    "kernelspec": {
      "display_name": "Python 3 (ipykernel)",
      "language": "python",
      "name": "python3"
    },
    "language_info": {
      "codemirror_mode": {
        "name": "ipython",
        "version": 3
      },
      "file_extension": ".py",
      "mimetype": "text/x-python",
      "name": "python",
      "nbconvert_exporter": "python",
      "pygments_lexer": "ipython3",
      "version": "3.10.6"
    },
    "colab": {
      "provenance": []
    }
  },
  "nbformat": 4,
  "nbformat_minor": 5
}
